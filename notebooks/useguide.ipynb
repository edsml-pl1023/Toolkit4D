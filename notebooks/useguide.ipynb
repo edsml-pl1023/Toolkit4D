{
 "cells": [
  {
   "cell_type": "markdown",
   "metadata": {},
   "source": [
    "# Import ToolKit4D Pipeline"
   ]
  },
  {
   "cell_type": "code",
   "execution_count": 1,
   "metadata": {},
   "outputs": [],
   "source": [
    "from ToolKit4D.pipeline import ToolKitPipeline"
   ]
  },
  {
   "cell_type": "markdown",
   "metadata": {},
   "source": [
    "# Load Raw images"
   ]
  },
  {
   "cell_type": "code",
   "execution_count": 2,
   "metadata": {},
   "outputs": [],
   "source": [
    "LA3d0v1 = ToolKitPipeline(rawfile='../raw/LA3_d0_v1_uint16_unnormalised_2028_2028_2028.raw')"
   ]
  },
  {
   "cell_type": "markdown",
   "metadata": {},
   "source": [
    "Once instantiate, this raw image is loaded as numpy array:"
   ]
  },
  {
   "cell_type": "code",
   "execution_count": 3,
   "metadata": {},
   "outputs": [
    {
     "data": {
      "text/plain": [
       "array([[[32436, 32436, 32436, ..., 32436, 32436, 32436],\n",
       "        [32436, 32436, 32436, ..., 32436, 32436, 32436],\n",
       "        [32436, 32436, 32436, ..., 32436, 32436, 32436],\n",
       "        ...,\n",
       "        [32436, 32436, 32436, ..., 32436, 32436, 32436],\n",
       "        [32436, 32436, 32436, ..., 32436, 32436, 32436],\n",
       "        [32436, 32436, 32436, ..., 32436, 32436, 32436]],\n",
       "\n",
       "       [[32436, 32436, 32436, ..., 32436, 32436, 32436],\n",
       "        [32436, 32436, 32436, ..., 32436, 32436, 32436],\n",
       "        [32436, 32436, 32436, ..., 32436, 32436, 32436],\n",
       "        ...,\n",
       "        [32436, 32436, 32436, ..., 32436, 32436, 32436],\n",
       "        [32436, 32436, 32436, ..., 32436, 32436, 32436],\n",
       "        [32436, 32436, 32436, ..., 32436, 32436, 32436]],\n",
       "\n",
       "       [[32436, 32436, 32436, ..., 32436, 32436, 32436],\n",
       "        [32436, 32436, 32436, ..., 32436, 32436, 32436],\n",
       "        [32436, 32436, 32436, ..., 32436, 32436, 32436],\n",
       "        ...,\n",
       "        [32436, 32436, 32436, ..., 32436, 32436, 32436],\n",
       "        [32436, 32436, 32436, ..., 32436, 32436, 32436],\n",
       "        [32436, 32436, 32436, ..., 32436, 32436, 32436]],\n",
       "\n",
       "       ...,\n",
       "\n",
       "       [[32436, 32436, 32436, ..., 32436, 32436, 32436],\n",
       "        [32436, 32436, 32436, ..., 32436, 32436, 32436],\n",
       "        [32436, 32436, 32436, ..., 32436, 32436, 32436],\n",
       "        ...,\n",
       "        [32436, 32436, 32436, ..., 32436, 32436, 32436],\n",
       "        [32436, 32436, 32436, ..., 32436, 32436, 32436],\n",
       "        [32436, 32436, 32436, ..., 32436, 32436, 32436]],\n",
       "\n",
       "       [[32436, 32436, 32436, ..., 32436, 32436, 32436],\n",
       "        [32436, 32436, 32436, ..., 32436, 32436, 32436],\n",
       "        [32436, 32436, 32436, ..., 32436, 32436, 32436],\n",
       "        ...,\n",
       "        [32436, 32436, 32436, ..., 32436, 32436, 32436],\n",
       "        [32436, 32436, 32436, ..., 32436, 32436, 32436],\n",
       "        [32436, 32436, 32436, ..., 32436, 32436, 32436]],\n",
       "\n",
       "       [[32436, 32436, 32436, ..., 32436, 32436, 32436],\n",
       "        [32436, 32436, 32436, ..., 32436, 32436, 32436],\n",
       "        [32436, 32436, 32436, ..., 32436, 32436, 32436],\n",
       "        ...,\n",
       "        [32436, 32436, 32436, ..., 32436, 32436, 32436],\n",
       "        [32436, 32436, 32436, ..., 32436, 32436, 32436],\n",
       "        [32436, 32436, 32436, ..., 32436, 32436, 32436]]], dtype=uint16)"
      ]
     },
     "execution_count": 3,
     "metadata": {},
     "output_type": "execute_result"
    }
   ],
   "source": [
    "LA3d0v1.raw"
   ]
  },
  {
   "cell_type": "markdown",
   "metadata": {},
   "source": [
    "The instantiation process also automatically creates directories under current working directory: `image_folder` and `threshold_folder` to store the processed results from subsequent procedures "
   ]
  },
  {
   "cell_type": "code",
   "execution_count": 4,
   "metadata": {},
   "outputs": [
    {
     "data": {
      "text/plain": [
       "('./results\\\\LA3v1d0/image/', './results\\\\LA3v1d0/threshold/')"
      ]
     },
     "execution_count": 4,
     "metadata": {},
     "output_type": "execute_result"
    }
   ],
   "source": [
    "LA3d0v1.image_folder, LA3d0v1.threshold_folder"
   ]
  },
  {
   "cell_type": "markdown",
   "metadata": {},
   "source": [
    "Besides raw, image_folder and threshold_folder, Other attributes include instance identifier, image size and image type"
   ]
  },
  {
   "cell_type": "code",
   "execution_count": 5,
   "metadata": {},
   "outputs": [
    {
     "data": {
      "text/plain": [
       "('LA3v1d0', [2028, 2028, 2028], 'uint16')"
      ]
     },
     "execution_count": 5,
     "metadata": {},
     "output_type": "execute_result"
    }
   ],
   "source": [
    "LA3d0v1.identifier, LA3d0v1.im_size, LA3d0v1.im_type"
   ]
  },
  {
   "cell_type": "markdown",
   "metadata": {},
   "source": [
    "# Processing with the `threshold_rock` Function"
   ]
  },
  {
   "cell_type": "code",
   "execution_count": 13,
   "metadata": {},
   "outputs": [
    {
     "name": "stdout",
     "output_type": "stream",
     "text": [
      "-----Finding Rock Threshold-----\n",
      "\t calling threshold_rock()\n",
      "\t -- calculating histogram ...\n",
      "\t -- finding otsu threshold ...\n"
     ]
    }
   ],
   "source": [
    "LA3d0v1.threshold_rock(save=True)"
   ]
  },
  {
   "cell_type": "markdown",
   "metadata": {},
   "source": [
    "Set `save=True` to save the processed image under `image_folder` and threholding values under `threshold_folder`"
   ]
  },
  {
   "cell_type": "markdown",
   "metadata": {},
   "source": [
    "# Processing with the `remove_cylinder` Function"
   ]
  },
  {
   "cell_type": "code",
   "execution_count": 14,
   "metadata": {},
   "outputs": [
    {
     "name": "stdout",
     "output_type": "stream",
     "text": [
      "-----Removing Cylinder-----\n",
      "\t calling remove_cylinder()\n",
      "\t -- finding 1 slice circle ...\n",
      "\t -- finding 2 slice circle ...\n",
      "\t -- finding slope and incp ...\n",
      "\t -- removing circles at each slice ...\n"
     ]
    }
   ],
   "source": [
    "LA3d0v1.remove_cylinder(save=True)"
   ]
  },
  {
   "cell_type": "markdown",
   "metadata": {},
   "source": [
    "Again, Set `save=True` to save the result."
   ]
  },
  {
   "cell_type": "markdown",
   "metadata": {},
   "source": [
    "# Processing with the `segment_rocks` Function"
   ]
  },
  {
   "cell_type": "code",
   "execution_count": 15,
   "metadata": {},
   "outputs": [
    {
     "name": "stdout",
     "output_type": "stream",
     "text": [
      "-----Segment Rocks-----\n",
      "\t calling segment_rocks()\n",
      "\t -- filtering out small objects ...\n",
      "\t -- filling holes of the image ...\n",
      "\t -- finding largest \"air\" object ...\n",
      "\t -- do image opening...\n"
     ]
    }
   ],
   "source": [
    "LA3d0v1.segment_rocks(save=True)"
   ]
  },
  {
   "cell_type": "markdown",
   "metadata": {},
   "source": [
    "# Processing with the `separate_rocks` Function"
   ]
  },
  {
   "cell_type": "code",
   "execution_count": null,
   "metadata": {},
   "outputs": [],
   "source": [
    "LA3d0v1.separate_rocks(model_path='../model/compact_bs32_epoch25_p.pth', ML=True, save=True)"
   ]
  },
  {
   "cell_type": "markdown",
   "metadata": {},
   "source": [
    "The default `model_path` for `separate_rocks` function is '../model/compact_bs32_epoch25_p.pth'. If you are not at the directory of this notebook, remenber to change the path to the model\n"
   ]
  },
  {
   "cell_type": "markdown",
   "metadata": {},
   "source": [
    "# Processing with the `agglomerate_extaction` Function"
   ]
  },
  {
   "cell_type": "code",
   "execution_count": null,
   "metadata": {},
   "outputs": [],
   "source": [
    "LA3d0v1.agglomerate_extraction(save=True)"
   ]
  },
  {
   "cell_type": "markdown",
   "metadata": {},
   "source": [
    "# Processing with the `threshold_grain` Function"
   ]
  },
  {
   "cell_type": "code",
   "execution_count": null,
   "metadata": {},
   "outputs": [],
   "source": [
    "LA3d0v1.threshold_grain(method='moments', save=True)"
   ]
  },
  {
   "cell_type": "markdown",
   "metadata": {},
   "source": [
    "# Use Preload Parameter to load processed image to attributes"
   ]
  },
  {
   "cell_type": "code",
   "execution_count": null,
   "metadata": {},
   "outputs": [],
   "source": [
    "del LA3d0v1"
   ]
  },
  {
   "cell_type": "code",
   "execution_count": 2,
   "metadata": {},
   "outputs": [],
   "source": [
    "LA3d0v1 = ToolKitPipeline(rawfile='../raw/LA3_d0_v1_uint16_unnormalised_2028_2028_2028.raw', load=True)"
   ]
  },
  {
   "cell_type": "markdown",
   "metadata": {},
   "source": [
    "If the processed images have already been saved in `image_folder`, use the parameter `load=True` can directly load these images to the instance attributes\n",
    "\n",
    "Here, `rock_thresh_mask ` and `column_mask` are loaded and can be accessed"
   ]
  },
  {
   "cell_type": "code",
   "execution_count": 4,
   "metadata": {},
   "outputs": [
    {
     "data": {
      "text/plain": [
       "(array([[[False, False, False, ..., False, False, False],\n",
       "         [False, False, False, ..., False, False, False],\n",
       "         [False, False, False, ..., False, False, False],\n",
       "         ...,\n",
       "         [False, False, False, ..., False, False, False],\n",
       "         [False, False, False, ..., False, False, False],\n",
       "         [False, False, False, ..., False, False, False]],\n",
       " \n",
       "        [[False, False, False, ..., False, False, False],\n",
       "         [False, False, False, ..., False, False, False],\n",
       "         [False, False, False, ..., False, False, False],\n",
       "         ...,\n",
       "         [False, False, False, ..., False, False, False],\n",
       "         [False, False, False, ..., False, False, False],\n",
       "         [False, False, False, ..., False, False, False]],\n",
       " \n",
       "        [[False, False, False, ..., False, False, False],\n",
       "         [False, False, False, ..., False, False, False],\n",
       "         [False, False, False, ..., False, False, False],\n",
       "         ...,\n",
       "         [False, False, False, ..., False, False, False],\n",
       "         [False, False, False, ..., False, False, False],\n",
       "         [False, False, False, ..., False, False, False]],\n",
       " \n",
       "        ...,\n",
       " \n",
       "        [[False, False, False, ..., False, False, False],\n",
       "         [False, False, False, ..., False, False, False],\n",
       "         [False, False, False, ..., False, False, False],\n",
       "         ...,\n",
       "         [False, False, False, ..., False, False, False],\n",
       "         [False, False, False, ..., False, False, False],\n",
       "         [False, False, False, ..., False, False, False]],\n",
       " \n",
       "        [[False, False, False, ..., False, False, False],\n",
       "         [False, False, False, ..., False, False, False],\n",
       "         [False, False, False, ..., False, False, False],\n",
       "         ...,\n",
       "         [False, False, False, ..., False, False, False],\n",
       "         [False, False, False, ..., False, False, False],\n",
       "         [False, False, False, ..., False, False, False]],\n",
       " \n",
       "        [[False, False, False, ..., False, False, False],\n",
       "         [False, False, False, ..., False, False, False],\n",
       "         [False, False, False, ..., False, False, False],\n",
       "         ...,\n",
       "         [False, False, False, ..., False, False, False],\n",
       "         [False, False, False, ..., False, False, False],\n",
       "         [False, False, False, ..., False, False, False]]]),\n",
       " array([[[False, False, False, ..., False, False, False],\n",
       "         [False, False, False, ..., False, False, False],\n",
       "         [False, False, False, ..., False, False, False],\n",
       "         ...,\n",
       "         [False, False, False, ..., False, False, False],\n",
       "         [False, False, False, ..., False, False, False],\n",
       "         [False, False, False, ..., False, False, False]],\n",
       " \n",
       "        [[False, False, False, ..., False, False, False],\n",
       "         [False, False, False, ..., False, False, False],\n",
       "         [False, False, False, ..., False, False, False],\n",
       "         ...,\n",
       "         [False, False, False, ..., False, False, False],\n",
       "         [False, False, False, ..., False, False, False],\n",
       "         [False, False, False, ..., False, False, False]],\n",
       " \n",
       "        [[False, False, False, ..., False, False, False],\n",
       "         [False, False, False, ..., False, False, False],\n",
       "         [False, False, False, ..., False, False, False],\n",
       "         ...,\n",
       "         [False, False, False, ..., False, False, False],\n",
       "         [False, False, False, ..., False, False, False],\n",
       "         [False, False, False, ..., False, False, False]],\n",
       " \n",
       "        ...,\n",
       " \n",
       "        [[False, False, False, ..., False, False, False],\n",
       "         [False, False, False, ..., False, False, False],\n",
       "         [False, False, False, ..., False, False, False],\n",
       "         ...,\n",
       "         [False, False, False, ..., False, False, False],\n",
       "         [False, False, False, ..., False, False, False],\n",
       "         [False, False, False, ..., False, False, False]],\n",
       " \n",
       "        [[False, False, False, ..., False, False, False],\n",
       "         [False, False, False, ..., False, False, False],\n",
       "         [False, False, False, ..., False, False, False],\n",
       "         ...,\n",
       "         [False, False, False, ..., False, False, False],\n",
       "         [False, False, False, ..., False, False, False],\n",
       "         [False, False, False, ..., False, False, False]],\n",
       " \n",
       "        [[False, False, False, ..., False, False, False],\n",
       "         [False, False, False, ..., False, False, False],\n",
       "         [False, False, False, ..., False, False, False],\n",
       "         ...,\n",
       "         [False, False, False, ..., False, False, False],\n",
       "         [False, False, False, ..., False, False, False],\n",
       "         [False, False, False, ..., False, False, False]]]))"
      ]
     },
     "execution_count": 4,
     "metadata": {},
     "output_type": "execute_result"
    }
   ],
   "source": [
    "LA3d0v1.rock_thresh_mask"
   ]
  },
  {
   "cell_type": "code",
   "execution_count": 5,
   "metadata": {},
   "outputs": [
    {
     "data": {
      "text/plain": [
       "array([[[False, False, False, ..., False, False, False],\n",
       "        [False, False, False, ..., False, False, False],\n",
       "        [False, False, False, ..., False, False, False],\n",
       "        ...,\n",
       "        [False, False, False, ..., False, False, False],\n",
       "        [False, False, False, ..., False, False, False],\n",
       "        [False, False, False, ..., False, False, False]],\n",
       "\n",
       "       [[False, False, False, ..., False, False, False],\n",
       "        [False, False, False, ..., False, False, False],\n",
       "        [False, False, False, ..., False, False, False],\n",
       "        ...,\n",
       "        [False, False, False, ..., False, False, False],\n",
       "        [False, False, False, ..., False, False, False],\n",
       "        [False, False, False, ..., False, False, False]],\n",
       "\n",
       "       [[False, False, False, ..., False, False, False],\n",
       "        [False, False, False, ..., False, False, False],\n",
       "        [False, False, False, ..., False, False, False],\n",
       "        ...,\n",
       "        [False, False, False, ..., False, False, False],\n",
       "        [False, False, False, ..., False, False, False],\n",
       "        [False, False, False, ..., False, False, False]],\n",
       "\n",
       "       ...,\n",
       "\n",
       "       [[False, False, False, ..., False, False, False],\n",
       "        [False, False, False, ..., False, False, False],\n",
       "        [False, False, False, ..., False, False, False],\n",
       "        ...,\n",
       "        [False, False, False, ..., False, False, False],\n",
       "        [False, False, False, ..., False, False, False],\n",
       "        [False, False, False, ..., False, False, False]],\n",
       "\n",
       "       [[False, False, False, ..., False, False, False],\n",
       "        [False, False, False, ..., False, False, False],\n",
       "        [False, False, False, ..., False, False, False],\n",
       "        ...,\n",
       "        [False, False, False, ..., False, False, False],\n",
       "        [False, False, False, ..., False, False, False],\n",
       "        [False, False, False, ..., False, False, False]],\n",
       "\n",
       "       [[False, False, False, ..., False, False, False],\n",
       "        [False, False, False, ..., False, False, False],\n",
       "        [False, False, False, ..., False, False, False],\n",
       "        ...,\n",
       "        [False, False, False, ..., False, False, False],\n",
       "        [False, False, False, ..., False, False, False],\n",
       "        [False, False, False, ..., False, False, False]]])"
      ]
     },
     "execution_count": 5,
     "metadata": {},
     "output_type": "execute_result"
    }
   ],
   "source": [
    "LA3d0v1.column_mask"
   ]
  }
 ],
 "metadata": {
  "kernelspec": {
   "display_name": "test2",
   "language": "python",
   "name": "python3"
  },
  "language_info": {
   "codemirror_mode": {
    "name": "ipython",
    "version": 3
   },
   "file_extension": ".py",
   "mimetype": "text/x-python",
   "name": "python",
   "nbconvert_exporter": "python",
   "pygments_lexer": "ipython3",
   "version": "3.10.14"
  }
 },
 "nbformat": 4,
 "nbformat_minor": 2
}
